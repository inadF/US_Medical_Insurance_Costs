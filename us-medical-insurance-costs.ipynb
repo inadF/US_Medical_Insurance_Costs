{
 "cells": [
  {
   "cell_type": "markdown",
   "metadata": {},
   "source": [
    "# U.S. Medical Insurance Costs"
   ]
  },
  {
   "cell_type": "markdown",
   "metadata": {},
   "source": [
    "Import the dataset with using pandas"
   ]
  },
  {
   "cell_type": "code",
   "execution_count": 39,
   "metadata": {},
   "outputs": [],
   "source": [
    "#import pandas\n",
    "import pandas as pd\n",
    "\n",
    "mi = pd.read_csv(\"insurance.csv\")\n"
   ]
  },
  {
   "cell_type": "markdown",
   "metadata": {},
   "source": [
    "What is the % of the people smoke in the dataset?"
   ]
  },
  {
   "cell_type": "code",
   "execution_count": 6,
   "metadata": {},
   "outputs": [
    {
     "data": {
      "text/plain": [
       "20.47832585949178"
      ]
     },
     "execution_count": 6,
     "metadata": {},
     "output_type": "execute_result"
    }
   ],
   "source": [
    "# Calculate the percentage of smokers in the dataset\n",
    "smoker_percentage = (mi['smoker'] == 'yes').mean() * 100\n",
    "\n",
    "smoker_percentage\n"
   ]
  },
  {
   "cell_type": "markdown",
   "metadata": {},
   "source": [
    "Compare the percentage of male and female smokers"
   ]
  },
  {
   "cell_type": "code",
   "execution_count": 24,
   "metadata": {},
   "outputs": [
    {
     "name": "stdout",
     "output_type": "stream",
     "text": [
      "23.5207100591716 \t 17.371601208459214\n"
     ]
    }
   ],
   "source": [
    "male_smoker_percentage = (mi.loc[mi['sex'] == 'male', 'smoker'] == 'yes').mean() * 100\n",
    "female_smoker_percentage = (mi.loc[mi['sex'] == 'female', 'smoker'] == 'yes').mean() * 100\n",
    "\n",
    "print(male_smoker_percentage,'\\t',female_smoker_percentage)"
   ]
  },
  {
   "cell_type": "markdown",
   "metadata": {},
   "source": [
    "patient number from one region"
   ]
  },
  {
   "cell_type": "code",
   "execution_count": 27,
   "metadata": {},
   "outputs": [
    {
     "name": "stdout",
     "output_type": "stream",
     "text": [
      "region\n",
      "northeast    324\n",
      "northwest    325\n",
      "southeast    364\n",
      "southwest    325\n",
      "Name: region, dtype: int64\n"
     ]
    }
   ],
   "source": [
    "regions = mi.groupby(['region'])['region'].count()\n",
    "print(regions)"
   ]
  },
  {
   "cell_type": "markdown",
   "metadata": {},
   "source": [
    "average age"
   ]
  },
  {
   "cell_type": "code",
   "execution_count": 30,
   "metadata": {},
   "outputs": [
    {
     "data": {
      "text/plain": [
       "sex\n",
       "female    39.503021\n",
       "male      38.917160\n",
       "Name: age, dtype: float64"
      ]
     },
     "execution_count": 30,
     "metadata": {},
     "output_type": "execute_result"
    }
   ],
   "source": [
    "av_age = mi.groupby(['sex'])['age'].mean()\n",
    "av_age"
   ]
  },
  {
   "cell_type": "markdown",
   "metadata": {},
   "source": [
    "average charge"
   ]
  },
  {
   "cell_type": "code",
   "execution_count": 32,
   "metadata": {},
   "outputs": [
    {
     "data": {
      "text/plain": [
       "sex\n",
       "female    12569.578844\n",
       "male      13956.751178\n",
       "Name: charges, dtype: float64"
      ]
     },
     "execution_count": 32,
     "metadata": {},
     "output_type": "execute_result"
    }
   ],
   "source": [
    "av_charge = mi.groupby(['sex'])['charges'].mean()\n",
    "av_charge"
   ]
  },
  {
   "cell_type": "markdown",
   "metadata": {},
   "source": [
    "average bmi"
   ]
  },
  {
   "cell_type": "code",
   "execution_count": 33,
   "metadata": {},
   "outputs": [
    {
     "data": {
      "text/plain": [
       "sex\n",
       "female    30.377749\n",
       "male      30.943129\n",
       "Name: bmi, dtype: float64"
      ]
     },
     "execution_count": 33,
     "metadata": {},
     "output_type": "execute_result"
    }
   ],
   "source": [
    "av_bmi = mi.groupby(['sex'])['bmi'].mean()\n",
    "av_bmi"
   ]
  },
  {
   "cell_type": "markdown",
   "metadata": {},
   "source": [
    "average age of people with at least 1 child"
   ]
  },
  {
   "cell_type": "code",
   "execution_count": 35,
   "metadata": {},
   "outputs": [
    {
     "data": {
      "text/plain": [
       "39.78010471204188"
      ]
     },
     "execution_count": 35,
     "metadata": {},
     "output_type": "execute_result"
    }
   ],
   "source": [
    "av_age_with_children = (mi.loc[mi['children'] >= 1, 'age']).mean()\n",
    "av_age_with_children"
   ]
  },
  {
   "cell_type": "markdown",
   "metadata": {},
   "source": [
    "Average female age(39.50) and average age with children (39.78) are very similar which means the dataset is probably based on middle aged family-oriented members.\n",
    "The individuals distibution by region is almost equal (324,325,364,325), with slightly higher participants from the southeast (364)\n",
    "There is a 6 % deficit between the male and the female smokers (23.5 and 17.4)\n",
    "The male individuals pay more for insurance (male:13956.75, female:12569.58) \n",
    "This may be caused by the fact that the male smokers take bigger part from the dataset."
   ]
  },
  {
   "cell_type": "code",
   "execution_count": 38,
   "metadata": {},
   "outputs": [
    {
     "data": {
      "text/plain": [
       "(8087.204731276595, 8762.297299541133, 33042.00597528303, 30678.996276260867)"
      ]
     },
     "execution_count": 38,
     "metadata": {},
     "output_type": "execute_result"
    }
   ],
   "source": [
    "av_charge_non_smoker_male = mi.loc[(mi['sex'] == 'male') & (mi['smoker'] == 'no'), 'charges'].mean()\n",
    "av_charge_non_smoker_female = mi.loc[(mi['sex'] == 'female') & (mi['smoker'] == 'no'), 'charges'].mean()\n",
    "av_charge_smoker_male = mi.loc[(mi['sex'] == 'male') & (mi['smoker'] == 'yes'), 'charges'].mean()\n",
    "av_charge_smoker_female = mi.loc[(mi['sex'] == 'female') & (mi['smoker'] == 'yes'), 'charges'].mean()\n",
    "\n",
    "av_charge_non_smoker_male, av_charge_non_smoker_female, av_charge_smoker_male, av_charge_smoker_female\n"
   ]
  },
  {
   "cell_type": "markdown",
   "metadata": {},
   "source": [
    "The group of female non-smokers pay more (8762.30) than the males (8087.20) and the smoker males pay much more (33042.01) than the smoker females (30679.00)"
   ]
  }
 ],
 "metadata": {
  "kernelspec": {
   "display_name": "Python 3 (ipykernel)",
   "language": "python",
   "name": "python3"
  },
  "language_info": {
   "codemirror_mode": {
    "name": "ipython",
    "version": 3
   },
   "file_extension": ".py",
   "mimetype": "text/x-python",
   "name": "python",
   "nbconvert_exporter": "python",
   "pygments_lexer": "ipython3",
   "version": "3.10.0"
  }
 },
 "nbformat": 4,
 "nbformat_minor": 4
}
